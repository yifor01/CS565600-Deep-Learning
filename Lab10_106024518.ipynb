{
 "cells": [
  {
   "cell_type": "markdown",
   "metadata": {},
   "source": [
    "# 1. Learning the XOR"
   ]
  },
  {
   "cell_type": "code",
   "execution_count": 1,
   "metadata": {
    "scrolled": true
   },
   "outputs": [
    {
     "name": "stderr",
     "output_type": "stream",
     "text": [
      "C:\\Users\\User\\Anaconda3\\lib\\site-packages\\h5py\\__init__.py:36: FutureWarning: Conversion of the second argument of issubdtype from `float` to `np.floating` is deprecated. In future, it will be treated as `np.float64 == np.dtype(float).type`.\n",
      "  from ._conv import register_converters as _register_converters\n"
     ]
    }
   ],
   "source": [
    "import numpy as np\n",
    "import random\n",
    "import matplotlib.pyplot as plt\n",
    "import tensorflow as tf\n",
    "import warnings\n",
    "warnings.filterwarnings('ignore')"
   ]
  },
  {
   "cell_type": "markdown",
   "metadata": {},
   "source": [
    "## Import data"
   ]
  },
  {
   "cell_type": "code",
   "execution_count": 2,
   "metadata": {},
   "outputs": [],
   "source": [
    "# xor task\n",
    "xor_data = np.array([[1, 0],[0, 1],[1, 1],[0, 0]])\n",
    "xor_label = np.array([[1], [1], [0], [0]])"
   ]
  },
  {
   "cell_type": "markdown",
   "metadata": {},
   "source": [
    "## Build graph "
   ]
  },
  {
   "cell_type": "code",
   "execution_count": 3,
   "metadata": {},
   "outputs": [],
   "source": [
    "with tf.Graph().as_default() as g:\n",
    "    # Data\n",
    "    x_input = tf.placeholder(tf.float32, [None, 2],name = 'X')\n",
    "    y_label = tf.placeholder(tf.float32, [None, 1],name = 'Y')\n",
    "    # Weights\n",
    "    W = tf.Variable(tf.truncated_normal([2,2]), name = \"W\")\n",
    "    w = tf.Variable(tf.truncated_normal([2,1]), name = \"w\")\n",
    "    # Bias\n",
    "    Bias1 = tf.Variable(tf.zeros([4,2]), name = \"Bias1\")\n",
    "    Bias2 = tf.Variable(tf.zeros([4,1]), name = \"Bias2\")\n",
    "\n",
    "    A2 = tf.sigmoid(tf.matmul(x_input, W) + Bias1)\n",
    "    y_estimate = tf.sigmoid(tf.matmul(A2, w) + Bias2)\n",
    "\n",
    "    with tf.name_scope(\"loss\") as scope:\n",
    "        loss = -tf.reduce_mean(y_label * tf.log(y_estimate) + (1 - y_label) * tf.log(1 - y_estimate))\n",
    "\n",
    "    with tf.name_scope(\"train\") as scope:\n",
    "        train_step = tf.train.GradientDescentOptimizer(0.01).minimize(loss)\n",
    "\n",
    "    with tf.name_scope(\"accuracy\") as scope:\n",
    "        predicted = tf.cast(y_estimate > 0.5, dtype=tf.float32)\n",
    "        accuracy = tf.reduce_mean(tf.cast(tf.equal(predicted, y_label), dtype=tf.float32))\n",
    "    \n",
    "    init = tf.global_variables_initializer()"
   ]
  },
  {
   "cell_type": "markdown",
   "metadata": {},
   "source": [
    "## Build session "
   ]
  },
  {
   "cell_type": "code",
   "execution_count": 4,
   "metadata": {},
   "outputs": [
    {
     "name": "stdout",
     "output_type": "stream",
     "text": [
      "________________________________________________________________________________\n",
      "Epoch:  500\n",
      "   y_estimate: \n",
      "     [0.5550531]\n",
      "     [0.55664515]\n",
      "     [0.31437135]\n",
      "     [0.2302585]\n",
      "\n",
      "   Weights: \n",
      "     [-1.1192467  -0.70653313]\n",
      "     [ 0.21173115 -0.8199856 ]\n",
      "\n",
      "   Bias: \n",
      "     [-0.03007021 -0.24647555]\n",
      "     [-0.0408465  -0.23831668]\n",
      "     [0.02086242 0.11747056]\n",
      "     [0.01764813 0.1269448 ]\n",
      "\n",
      "   Accuracy:  1.0\n",
      "________________________________________________________________________________\n"
     ]
    }
   ],
   "source": [
    "with tf.Session(graph=g) as sess:\n",
    "    sess.run(init)\n",
    "    for epoch in range(501):\n",
    "        sess.run(train_step, feed_dict={x_input: xor_data, y_label: xor_label})\n",
    "        if epoch == 500:\n",
    "            print(\"_\"*80)\n",
    "            print('Epoch: ', epoch)\n",
    "            print('   y_estimate: ')\n",
    "            for element in sess.run(y_estimate, feed_dict={x_input: xor_data, y_label: xor_label}):\n",
    "                print('    ',element)\n",
    "            print('\\n   Weights: ')\n",
    "            for element in sess.run(W):\n",
    "                print('    ',element)\n",
    "            print('\\n   Bias: ')\n",
    "            for element in sess.run(Bias1):\n",
    "                print('    ',element)  \n",
    "            print('\\n   Accuracy: ', sess.run(accuracy, feed_dict={x_input:xor_data,y_label:xor_label}))\n",
    "    print(\"_\"*80)\n",
    "    writer = tf.summary.FileWriter(\"./logs/xor_logs\", sess.graph)"
   ]
  },
  {
   "cell_type": "markdown",
   "metadata": {},
   "source": [
    "# 2. MNIST - Digits classification"
   ]
  },
  {
   "cell_type": "markdown",
   "metadata": {},
   "source": [
    "## Import data"
   ]
  },
  {
   "cell_type": "code",
   "execution_count": 5,
   "metadata": {
    "scrolled": true
   },
   "outputs": [
    {
     "name": "stdout",
     "output_type": "stream",
     "text": [
      "WARNING:tensorflow:From <ipython-input-5-e70db4c1b96c>:3: read_data_sets (from tensorflow.contrib.learn.python.learn.datasets.mnist) is deprecated and will be removed in a future version.\n",
      "Instructions for updating:\n",
      "Please use alternatives such as official/mnist/dataset.py from tensorflow/models.\n",
      "WARNING:tensorflow:From C:\\Users\\User\\Anaconda3\\lib\\site-packages\\tensorflow\\contrib\\learn\\python\\learn\\datasets\\mnist.py:260: maybe_download (from tensorflow.contrib.learn.python.learn.datasets.base) is deprecated and will be removed in a future version.\n",
      "Instructions for updating:\n",
      "Please write your own downloading logic.\n",
      "WARNING:tensorflow:From C:\\Users\\User\\Anaconda3\\lib\\site-packages\\tensorflow\\contrib\\learn\\python\\learn\\datasets\\mnist.py:262: extract_images (from tensorflow.contrib.learn.python.learn.datasets.mnist) is deprecated and will be removed in a future version.\n",
      "Instructions for updating:\n",
      "Please use tf.data to implement this functionality.\n",
      "Extracting data/mnist\\train-images-idx3-ubyte.gz\n",
      "WARNING:tensorflow:From C:\\Users\\User\\Anaconda3\\lib\\site-packages\\tensorflow\\contrib\\learn\\python\\learn\\datasets\\mnist.py:267: extract_labels (from tensorflow.contrib.learn.python.learn.datasets.mnist) is deprecated and will be removed in a future version.\n",
      "Instructions for updating:\n",
      "Please use tf.data to implement this functionality.\n",
      "Extracting data/mnist\\train-labels-idx1-ubyte.gz\n",
      "WARNING:tensorflow:From C:\\Users\\User\\Anaconda3\\lib\\site-packages\\tensorflow\\contrib\\learn\\python\\learn\\datasets\\mnist.py:110: dense_to_one_hot (from tensorflow.contrib.learn.python.learn.datasets.mnist) is deprecated and will be removed in a future version.\n",
      "Instructions for updating:\n",
      "Please use tf.one_hot on tensors.\n",
      "Extracting data/mnist\\t10k-images-idx3-ubyte.gz\n",
      "Extracting data/mnist\\t10k-labels-idx1-ubyte.gz\n",
      "WARNING:tensorflow:From C:\\Users\\User\\Anaconda3\\lib\\site-packages\\tensorflow\\contrib\\learn\\python\\learn\\datasets\\mnist.py:290: DataSet.__init__ (from tensorflow.contrib.learn.python.learn.datasets.mnist) is deprecated and will be removed in a future version.\n",
      "Instructions for updating:\n",
      "Please use alternatives such as official/mnist/dataset.py from tensorflow/models.\n"
     ]
    }
   ],
   "source": [
    "from tensorflow.examples.tutorials.mnist import input_data\n",
    "# load mnist data\n",
    "mnist = input_data.read_data_sets(\"data/mnist\", one_hot=True)"
   ]
  },
  {
   "cell_type": "markdown",
   "metadata": {},
   "source": [
    "## Set parameters"
   ]
  },
  {
   "cell_type": "code",
   "execution_count": 6,
   "metadata": {},
   "outputs": [],
   "source": [
    "# Parameters\n",
    "epochs = 100\n",
    "batch_size = 100\n",
    "learning_rate = 0.001\n",
    "\n",
    "# Network Parameters\n",
    "n_hidden_1 = 256 # 1st layer number of neurons\n",
    "n_input = 784 # MNIST data input (img shape: 28*28)\n",
    "n_classes = 10 # MNIST total classes (0-9 digits)"
   ]
  },
  {
   "cell_type": "markdown",
   "metadata": {},
   "source": [
    "## Define fully connected layer"
   ]
  },
  {
   "cell_type": "code",
   "execution_count": 7,
   "metadata": {},
   "outputs": [
    {
     "name": "stdout",
     "output_type": "stream",
     "text": [
      "Extracting data/mnist\\train-images-idx3-ubyte.gz\n",
      "Extracting data/mnist\\train-labels-idx1-ubyte.gz\n",
      "Extracting data/mnist\\t10k-images-idx3-ubyte.gz\n",
      "Extracting data/mnist\\t10k-labels-idx1-ubyte.gz\n"
     ]
    }
   ],
   "source": [
    "# load mnist data\n",
    "mnist = input_data.read_data_sets(\"data/mnist\", one_hot=True)\n",
    "\n",
    "# weight and bais wrappers\n",
    "def weight_variable(name, shape):\n",
    "    initer = tf.truncated_normal_initializer(stddev=0.01)\n",
    "    return tf.get_variable('W_' + name,\n",
    "                           dtype=tf.float32,\n",
    "                           shape=shape,\n",
    "                           initializer=initer)\n",
    "def bias_variable(name, shape):\n",
    "    initial = tf.constant(0., shape=shape, dtype=tf.float32)\n",
    "    return tf.get_variable('b_' + name,\n",
    "                           dtype=tf.float32,\n",
    "                           initializer=initial)\n",
    "\n",
    "def fully_connected_layer(x, num_units, name, use_relu=True):\n",
    "    in_dim = x.get_shape()[1]\n",
    "    W = weight_variable(name, shape=[in_dim, num_units])\n",
    "    b = bias_variable(name, [num_units])\n",
    "    layer = tf.matmul(x, W)\n",
    "    layer += b\n",
    "    if use_relu:\n",
    "        layer = tf.nn.relu(layer)\n",
    "    return layer"
   ]
  },
  {
   "cell_type": "markdown",
   "metadata": {},
   "source": [
    "## Build graph "
   ]
  },
  {
   "cell_type": "code",
   "execution_count": 8,
   "metadata": {},
   "outputs": [],
   "source": [
    "with tf.Graph().as_default() as g2: \n",
    "    # data\n",
    "    x = tf.placeholder(tf.float32, shape=[None, n_input], name='X')\n",
    "    y = tf.placeholder(tf.float32, shape=[None, n_classes], name='Y')\n",
    "    \n",
    "    # model\n",
    "    fc1 = fully_connected_layer(x, n_hidden_1, 'FC1', use_relu=True)\n",
    "    output_logits = fully_connected_layer(fc1, n_classes, 'OUT', use_relu=False)\n",
    "\n",
    "    # loss\n",
    "    loss = tf.reduce_mean(tf.nn.softmax_cross_entropy_with_logits_v2(labels=y, logits=output_logits), \n",
    "                              name='loss')\n",
    "    # optimizer\n",
    "    optimizer = tf.train.AdamOptimizer(learning_rate=learning_rate, name='Adam-op').minimize(loss)\n",
    "    \n",
    "    # accuracy\n",
    "    cls_prediction = tf.argmax(output_logits, axis=1, name='predictions')\n",
    "    correct_prediction = tf.equal(tf.argmax(output_logits, 1), tf.argmax(y, 1), name='correct_pred')\n",
    "    accuracy = tf.reduce_mean(tf.cast(correct_prediction, tf.float32), name='accuracy')\n",
    "    \n",
    "    init = tf.global_variables_initializer()"
   ]
  },
  {
   "cell_type": "markdown",
   "metadata": {},
   "source": [
    "## Build session ( validation result )"
   ]
  },
  {
   "cell_type": "code",
   "execution_count": 9,
   "metadata": {},
   "outputs": [
    {
     "name": "stdout",
     "output_type": "stream",
     "text": [
      "[Validation result]\n",
      "Epoch: 100, validation loss: 0.12, validation accuracy: 98.1%\n"
     ]
    }
   ],
   "source": [
    "with tf.Session(graph=g2) as sess:\n",
    "    sess.run(init)\n",
    "    global_step = 0\n",
    "    # Number of training iterations in each epoch\n",
    "    num_tr_iter = int(len(mnist.train.labels) / batch_size)\n",
    "    for epoch in range(epochs):\n",
    "        for iteration in range(num_tr_iter):\n",
    "            global_step += 1\n",
    "            start = iteration * batch_size\n",
    "            end = (iteration + 1) * batch_size\n",
    "            x_batch, y_batch = mnist.train.next_batch(batch_size)\n",
    "\n",
    "            # Run optimization op (backprop)\n",
    "            feed_dict_batch = {x: x_batch, y: y_batch}\n",
    "            sess.run(optimizer, feed_dict=feed_dict_batch)\n",
    "\n",
    "        # Run validation after every epoch\n",
    "    feed_dict_valid = {x: mnist.validation.images, y: mnist.validation.labels}\n",
    "    loss_valid, acc_valid = sess.run([loss, accuracy], feed_dict=feed_dict_valid)\n",
    "    print(\"[Validation result]\")\n",
    "    print(\"Epoch: {0}, validation loss: {1:.2f}, validation accuracy: {2:.01%}\".\n",
    "          format(epoch + 1, loss_valid, acc_valid))"
   ]
  },
  {
   "cell_type": "markdown",
   "metadata": {},
   "source": [
    "## Build session ( testing data result )"
   ]
  },
  {
   "cell_type": "code",
   "execution_count": 10,
   "metadata": {},
   "outputs": [
    {
     "name": "stdout",
     "output_type": "stream",
     "text": [
      "[Testing result]\n",
      "Epoch: 100, testing loss: 0.13, testing accuracy: 98.2%\n"
     ]
    }
   ],
   "source": [
    "with tf.Session(graph=g2) as sess:\n",
    "    sess.run(init)\n",
    "    global_step = 0\n",
    "    # Number of training iterations in each epoch\n",
    "    num_tr_iter = int(len(mnist.train.labels) / batch_size)\n",
    "    for epoch in range(epochs):\n",
    "        for iteration in range(num_tr_iter):\n",
    "            global_step += 1\n",
    "            start = iteration * batch_size\n",
    "            end = (iteration + 1) * batch_size\n",
    "            x_batch, y_batch = mnist.train.next_batch(batch_size)\n",
    "\n",
    "            # Run optimization op (backprop)\n",
    "            feed_dict_batch = {x: x_batch, y: y_batch}\n",
    "            sess.run(optimizer, feed_dict=feed_dict_batch)\n",
    "\n",
    "    # Run testing data after every epoch\n",
    "    feed_dict_test = {x: mnist.test.images, y: mnist.test.labels}\n",
    "    loss_test, acc_test = sess.run([loss, accuracy], feed_dict=feed_dict_test)\n",
    "    print(\"[Testing result]\")\n",
    "    print(\"Epoch: {0}, testing loss: {1:.2f}, testing accuracy: {2:.01%}\".\n",
    "          format(epoch + 1, loss_test, acc_test))"
   ]
  },
  {
   "cell_type": "code",
   "execution_count": null,
   "metadata": {},
   "outputs": [],
   "source": []
  }
 ],
 "metadata": {
  "kernelspec": {
   "display_name": "Python 3",
   "language": "python",
   "name": "python3"
  },
  "language_info": {
   "codemirror_mode": {
    "name": "ipython",
    "version": 3
   },
   "file_extension": ".py",
   "mimetype": "text/x-python",
   "name": "python",
   "nbconvert_exporter": "python",
   "pygments_lexer": "ipython3",
   "version": "3.6.5"
  }
 },
 "nbformat": 4,
 "nbformat_minor": 2
}
