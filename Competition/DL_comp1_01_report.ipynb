{
 "cells": [
  {
   "cell_type": "markdown",
   "metadata": {},
   "source": [
    "# 0. 小組成員"
   ]
  },
  {
   "cell_type": "markdown",
   "metadata": {},
   "source": [
    "106024518 張家豪  \n",
    "105024701 李漢岳  \n",
    "106024521 黃信恩  "
   ]
  },
  {
   "cell_type": "markdown",
   "metadata": {},
   "source": [
    "# 1. Data Preprocessing"
   ]
  },
  {
   "cell_type": "markdown",
   "metadata": {},
   "source": [
    "本節，我們主要以下列流程來做資料前處理:  \n",
    "1. 讀取檔案\n",
    "2. 擴充斷詞庫\n",
    "3. 斷詞\n",
    "4. 建立詞頻字典\n",
    "5. 篩選重要詞彙\n",
    "6. 將詞彙轉成向量 (word2vec)"
   ]
  },
  {
   "cell_type": "markdown",
   "metadata": {},
   "source": [
    "## 1.0 讀取檔案"
   ]
  },
  {
   "cell_type": "code",
   "execution_count": 1,
   "metadata": {},
   "outputs": [
    {
     "name": "stderr",
     "output_type": "stream",
     "text": [
      "C:\\Users\\User\\Anaconda3\\envs\\tensorflow\\lib\\site-packages\\gensim\\utils.py:1212: UserWarning: detected Windows; aliasing chunkize to chunkize_serial\n",
      "  warnings.warn(\"detected Windows; aliasing chunkize to chunkize_serial\")\n"
     ]
    }
   ],
   "source": [
    "%matplotlib inline\n",
    "import numpy as np\n",
    "import pandas as pd\n",
    "import jieba\n",
    "import operator\n",
    "import random\n",
    "from gensim.models import Word2Vec\n",
    "from sklearn.metrics import accuracy_score"
   ]
  },
  {
   "cell_type": "markdown",
   "metadata": {},
   "source": [
    "## 1.1 擴充斷詞庫"
   ]
  },
  {
   "cell_type": "markdown",
   "metadata": {},
   "source": [
    "為了更正確的斷詞，我們加入新的斷詞字典 \"my.dict.txt\" "
   ]
  },
  {
   "cell_type": "code",
   "execution_count": 2,
   "metadata": {},
   "outputs": [
    {
     "name": "stderr",
     "output_type": "stream",
     "text": [
      "Building prefix dict from C:\\Users\\User\\python\\big5_dict.txt ...\n",
      "Dumping model to file cache C:\\Users\\User\\AppData\\Local\\Temp\\jieba.u52871cbd0654897ca0fc2fbeb8323d83.cache\n",
      "Loading model cost 0.833 seconds.\n",
      "Prefix dict has been built succesfully.\n"
     ]
    }
   ],
   "source": [
    "jieba.set_dictionary('big5_dict.txt')\n",
    "jieba.load_userdict('my.dict.txt')"
   ]
  },
  {
   "cell_type": "markdown",
   "metadata": {},
   "source": [
    "## 1.2 斷詞"
   ]
  },
  {
   "cell_type": "markdown",
   "metadata": {},
   "source": [
    "以下，我們使用jieba加上自創的stop word，對文件進行斷詞  "
   ]
  },
  {
   "cell_type": "code",
   "execution_count": 3,
   "metadata": {},
   "outputs": [],
   "source": [
    "# 停用詞\n",
    "with open('stop_words.txt', 'r', encoding='utf8') as f:  \n",
    "    stops = f.read().split('\\n') \n",
    "stops.append(\"\\n\")\n",
    "stops.append(\" \")\n",
    "stops.append('，')\n",
    "\n",
    "# 載入 programs\n",
    "programs = []\n",
    "for i in range(1, 9):\n",
    "    program = pd.read_csv('Program0%d.csv' % (i))\n",
    "    programs.append(program)\n",
    "# 載入 questions\n",
    "questions = pd.read_csv('Question.csv')\n",
    "\n",
    "\n",
    "# 定義切詞函數\n",
    "def jieba_lines(lines):\n",
    "    cut_lines = []\n",
    "    for line in lines:\n",
    "        cut_line = jieba.lcut(line)\n",
    "        qw = [] # 找非停用詞的字\n",
    "        for qq in cut_line:\n",
    "            if qq not in stops:\n",
    "                qw.append(qq)\n",
    "        cut_lines.append(qw)\n",
    "    return cut_lines\n",
    "\n",
    "cut_programs = []\n",
    "for program in programs:\n",
    "    episodes = len(program)\n",
    "    cut_program = []\n",
    "    \n",
    "    for episode in range(episodes):\n",
    "        lines = program.loc[episode]['Content'].split('\\n')\n",
    "        cut_program.append(jieba_lines(lines))\n",
    "    cut_programs.append(cut_program)\n",
    "\n",
    "\n",
    "cut_questions = []\n",
    "n = len(questions)\n",
    "\n",
    "for i in range(n):\n",
    "    cut_question = []\n",
    "    lines = questions.loc[i]['Question'].split('\\n')\n",
    "    cut_question.append(jieba_lines(lines))\n",
    "    \n",
    "    for j in range(6):\n",
    "        line = questions.loc[i]['Option%d' % (j)]\n",
    "        cut_question.append(jieba.lcut(line))\n",
    "    \n",
    "    cut_questions.append(cut_question)\n",
    "    "
   ]
  },
  {
   "cell_type": "code",
   "execution_count": 6,
   "metadata": {},
   "outputs": [
    {
     "data": {
      "text/plain": [
       "[['警告', '不要', '接到', '學校', '打', '來電話'], []]"
      ]
     },
     "execution_count": 6,
     "metadata": {},
     "output_type": "execute_result"
    }
   ],
   "source": [
    "#結果檢查\n",
    "cut_question[0]"
   ]
  },
  {
   "cell_type": "markdown",
   "metadata": {},
   "source": [
    "## 1.3 建立詞頻字典"
   ]
  },
  {
   "cell_type": "markdown",
   "metadata": {},
   "source": [
    "以下，我們計算各個單詞的出現頻率，以建立詞頻字典。  \n",
    "這樣做的目的，是為了將頻率過高與過低的詞刪除，以確保斷出來之詞彙具有一定重樣性  "
   ]
  },
  {
   "cell_type": "code",
   "execution_count": 9,
   "metadata": {},
   "outputs": [],
   "source": [
    "# 建立字典\n",
    "def add_word_dict(w):\n",
    "    if not w in word_dict:\n",
    "        word_dict[w] = 1\n",
    "    else:\n",
    "        word_dict[w] += 1\n",
    "\n",
    "\n",
    "word_dict = dict()\n",
    "\n",
    "for program in cut_programs:\n",
    "    for lines in program:\n",
    "        for line in lines:\n",
    "            for w in line:\n",
    "                add_word_dict(w)\n",
    "\n",
    "for question in cut_questions:\n",
    "    lines = question[0]\n",
    "    for line in lines:\n",
    "        for w in line:\n",
    "            add_word_dict(w)\n",
    "    \n",
    "    for i in range(1, 7):\n",
    "        line = question[i]\n",
    "        for w in line:\n",
    "            add_word_dict(w)\n",
    "\n",
    "word_dict = sorted(word_dict.items(), key=operator.itemgetter(1), reverse=True)\n",
    "\n",
    "# 抽取一定數量的詞頻字典\n",
    "VOC_SIZE = 130000\n",
    "VOC_START = 20\n",
    "\n",
    "voc_dict = word_dict[VOC_START:VOC_START+VOC_SIZE]\n",
    "\n",
    "# 設定 辭典列表\n",
    "voc_dict2 = []\n",
    "for i in range(len(voc_dict)):\n",
    "    voc_dict2.append(voc_dict[i][0] )"
   ]
  },
  {
   "cell_type": "markdown",
   "metadata": {},
   "source": [
    "## 1.4 統整所有training set與testing set的句子"
   ]
  },
  {
   "cell_type": "markdown",
   "metadata": {},
   "source": [
    "由於後續我們將以word2vec的方式建立單詞的向量，以衡量詞與詞間的距離，  \n",
    "因此，我們在此階段，將統整手邊所有句子成為句庫，以進行單詞轉向量的training。  "
   ]
  },
  {
   "cell_type": "code",
   "execution_count": 10,
   "metadata": {},
   "outputs": [
    {
     "name": "stdout",
     "output_type": "stream",
     "text": [
      "[['送', '錢包', '看', '是不是', '這個', '就是', '這個', '哪裡', '找到', '它'], ['你', '看', ' ', '這是', '我', '新', '買', '的', '錢包'], ['我', '的', '錢包', '不見了', '啦'], ['以後', '上', '網咖', '的', '錢包', '在', '我', '身上'], ['什麼', '有錢', '包場']]\n"
     ]
    }
   ],
   "source": [
    "## 定義:一句話中取只有在字典裡的字\n",
    "def choosevoc(dat):\n",
    "    example_doc2 = []\n",
    "    for w in dat:\n",
    "        choose = ''\n",
    "        if w in voc_dict2:\n",
    "            choose = w\n",
    "            example_doc2.append(choose)\n",
    "        else:\n",
    "            choose = ''\n",
    "    return example_doc2\n",
    "\n",
    "# 定義:把每句對話串在一起\n",
    "def abc(dat):\n",
    "    doc = []\n",
    "    for li in dat:\n",
    "        for w in li:\n",
    "            doc.append(w)\n",
    "    return doc \n",
    "\n",
    "\n",
    "# 定義:把每句字詞串在一起\n",
    "def abcd(dat):\n",
    "    doc = []\n",
    "    for li in dat:\n",
    "        for w in li:\n",
    "            for qq in w:\n",
    "                doc.append(qq)\n",
    "    return doc\n",
    "\n",
    "## 問題與六個選項合併\n",
    "qaaaaaa=[]\n",
    "for i in range(len(cut_questions)):\n",
    "    qaaaaaa.append(abc(cut_questions[i][0]))\n",
    "    qaaaaaa.append(cut_questions[i][1])\n",
    "    qaaaaaa.append(cut_questions[i][2])\n",
    "    qaaaaaa.append(cut_questions[i][3])\n",
    "    qaaaaaa.append(cut_questions[i][4])\n",
    "    qaaaaaa.append(cut_questions[i][5])\n",
    "    qaaaaaa.append(cut_questions[i][6])\n",
    "print(qaaaaaa[:5])\n",
    "\n",
    "\n",
    "## 題目跟每個問題合併\n",
    "def q_combind(question_):\n",
    "    qa = []\n",
    "    for i in range(len(cut_questions)):\n",
    "        c = []\n",
    "        c.append(abc(cut_questions[i][0]))\n",
    "        c.append(cut_questions[i][question_])\n",
    "        qa.append(c)\n",
    "    return(qa)\n",
    "\n",
    "qa1 = q_combind(1)\n",
    "qa2 = q_combind(2)\n",
    "qa3 = q_combind(3)\n",
    "qa4 = q_combind(4)\n",
    "qa5 = q_combind(5)\n",
    "qa6 = q_combind(6)"
   ]
  },
  {
   "cell_type": "markdown",
   "metadata": {},
   "source": [
    "## 1.5 篩選重要詞彙"
   ]
  },
  {
   "cell_type": "code",
   "execution_count": null,
   "metadata": {},
   "outputs": [],
   "source": [
    "## 取 qaX 中有在字典裡的字為 new_qaX\n",
    "## 定義:取 qaX 中有在字典裡的字為 new_qaX\n",
    "def indic(data):\n",
    "    new_data = data\n",
    "    for i in range(len(data)):\n",
    "        for j in range(2):\n",
    "            new_data[i][j] = choosevoc(data[i][j])\n",
    "    return(new_data)\n",
    "\n",
    "new_qa1 = indic(qa1)\n",
    "new_qa2 = indic(qa2)\n",
    "new_qa3 = indic(qa3)\n",
    "new_qa4 = indic(qa4)\n",
    "new_qa5 = indic(qa5)\n",
    "new_qa6 = indic(qa6)"
   ]
  },
  {
   "cell_type": "markdown",
   "metadata": {},
   "source": [
    "# 1.6 將詞彙轉向量 (word2vec)"
   ]
  },
  {
   "cell_type": "code",
   "execution_count": null,
   "metadata": {},
   "outputs": [],
   "source": [
    "train_data = abcd(cut_programs)+qaaaaaa\n",
    "\n",
    "size_ = 500\n",
    "model = Word2Vec(train_data, size=size_, window=9, min_count=1, workers=4, sg=1, iter=18, hs=1,seed=123)"
   ]
  },
  {
   "cell_type": "markdown",
   "metadata": {},
   "source": [
    "# 2. Classifier Building"
   ]
  },
  {
   "cell_type": "markdown",
   "metadata": {},
   "source": [
    "模型建立的部分，我們採取兩種方式來做預測  \n",
    "1. 計算問題句與回答句間，詞與詞的所有距離，並取前k小的做平均  \n",
    "2. 將問題句與回答句內的所有詞向量先各自加總，再計算兩個加總後向量的距離  \n",
    "\n",
    "以下呈現建模過程與結果:  "
   ]
  },
  {
   "cell_type": "markdown",
   "metadata": {},
   "source": [
    "## 2.1 詞與詞距離"
   ]
  },
  {
   "cell_type": "code",
   "execution_count": null,
   "metadata": {},
   "outputs": [],
   "source": [
    "def qadist(data,k=2,weight= None,dist =1):\n",
    "    result = []\n",
    "    for t in range(len(data)):\n",
    "        sim = []\n",
    "        for i in range(len(data[t][0])):\n",
    "            for j in range(len(data[t][1])):\n",
    "                if dist == 1:\n",
    "                    distance = -1*model.wv.similarity(data[t][0][i],data[t][1][j])\n",
    "                elif dist ==2:\n",
    "                    distance = scipy.spatial.distance.cosine(model.wv[data[t][0][i]],\n",
    "                                                             model.wv[data[t][1][j]])\n",
    "                else:\n",
    "                    distance = scipy.spatial.distance.correlation(model.wv[data[t][0][i]],\n",
    "                                                                  model.wv[data[t][1][j]])\n",
    "                \n",
    "                sim.append(distance)\n",
    "\n",
    "        sim = np.mean(sorted(sim)[:k])\n",
    "        result.append(sim)\n",
    "    return(result)"
   ]
  },
  {
   "cell_type": "code",
   "execution_count": null,
   "metadata": {},
   "outputs": [],
   "source": [
    "import scipy\n",
    "\n",
    "result = {}\n",
    "for k_idx in range(5,16):\n",
    "    for method in range(1,4):\n",
    "        qacc = np.column_stack((qadist(new_qa1,k=k_idx,dist=method),\n",
    "                        qadist(new_qa2,k=k_idx,dist=method),\n",
    "                        qadist(new_qa3,k=k_idx,dist=method),\n",
    "                        qadist(new_qa4,k=k_idx,dist=method),\n",
    "                        qadist(new_qa5,k=k_idx,dist=method),\n",
    "                        qadist(new_qa6,k=k_idx,dist=method)))\n",
    "        result[''+str(k_idx)+str(method)]\n",
    "        print(k_idx, method, )"
   ]
  },
  {
   "cell_type": "code",
   "execution_count": null,
   "metadata": {},
   "outputs": [],
   "source": [
    "qacc_label = qacc.argmin(axis=1)\n",
    "output4 = {'Id':range(0,500),'Answer':qacc_label}\n",
    "output4 = pd.DataFrame(output4,columns=['Id','Answer'])\n",
    "print(output4[:5])\n",
    "output4.to_csv('output_wulala.csv',header=True,index=False)"
   ]
  },
  {
   "cell_type": "markdown",
   "metadata": {},
   "source": [
    "## 2.2 句與句的距離"
   ]
  },
  {
   "cell_type": "markdown",
   "metadata": {},
   "source": [
    "把每個詞相加後，找出兩個向量的cos距離。\n",
    "\n",
    "這邊有試過將向量做加權獲取平均，在public LB上表現沒有直接相加好。"
   ]
  },
  {
   "cell_type": "code",
   "execution_count": null,
   "metadata": {},
   "outputs": [],
   "source": [
    "# 相似度\n",
    "def qcc_(data1,data2,method):\n",
    "    data_combined = []\n",
    "    for i in range(1):\n",
    "        if data1==[]: # 問題\n",
    "            first = np.zeros(size_,)\n",
    "        else: \n",
    "            first = model.wv[data1].sum(axis=0)\n",
    "            \n",
    "        if data2==[]: # 答案\n",
    "            second = np.zeros(size_,)\n",
    "        else: \n",
    "            second = model.wv[data2].sum(axis=0)\n",
    "        # 定義距離\n",
    "        if data1==[] or data2==[]: \n",
    "            dist = 0\n",
    "        else:\n",
    "            if method==1:\n",
    "                dist = scipy.spatial.distance.cosine(first, second) \n",
    "            elif method==2:\n",
    "                dist = scipy.spatial.distance.correlation(first, second)\n",
    "            else:\n",
    "                dist = np.corrcoef(first,second)[0,1] \n",
    "        data_combined.append(dist)\n",
    "    return(data_combined)"
   ]
  },
  {
   "cell_type": "code",
   "execution_count": null,
   "metadata": {},
   "outputs": [],
   "source": [
    "odel = Word2Vec(mylist, size=250, window=9, min_count=1, \n",
    "                workers=4, sg=1, iter=18, hs=1,seed=123)\n",
    "                \n",
    "qacc = np.column_stack((qcc(new_qa1,1),qcc(new_qa2,1),qcc(new_qa3,1),\n",
    "                        qcc(new_qa4,1),qcc(new_qa5,1),qcc(new_qa6,1))) # cos\n",
    "qacc_label = qacc.argmin(axis=1)\n",
    "output4 = {'Id':range(0,500),'Answer':qacc_label}\n",
    "output4 = pd.DataFrame(output4,columns=['Id','Answer'])\n",
    "output4.to_csv('output_250_9_18.csv',header=True,index=False)"
   ]
  },
  {
   "cell_type": "markdown",
   "metadata": {},
   "source": [
    "# 3. Conclusion"
   ]
  },
  {
   "cell_type": "markdown",
   "metadata": {},
   "source": [
    "## 3.1 方法比較結果"
   ]
  },
  {
   "cell_type": "markdown",
   "metadata": {},
   "source": [
    "我們嘗試過以下方法  \n",
    "1. w2v + random forest  \n",
    "2. w2v + xgboost\n",
    "3. Doc2vec\n",
    "4. 單純比較詞與詞間的距離\n",
    "\n",
    "我們最後發現，反而是最單純的方法四，效果最好。  \n",
    "在這個方法中，我們嘗試了兩種計算距離的方法。  \n",
    "第一種方法是我們將問題句裡面的所有詞，與回答句的所有詞作兩兩組合，計算出所有的combination的距離後，取前k小的距離做平均。  \n",
    "第二種方法是我們先各自加總問題句裡面所有的詞的向量，以及回答句裡面所有詞的向量，再計算此兩項量的距離。  \n",
    "而距離的定義方式採取 -similarity,  scipy.spatial.distance.cosine, 與scipy.spatial.distance.correlation三種方式。  \n",
    "\n",
    "結果發現，成效最為明顯的是各自加總在計算距離的方法。於testing set上的準確率為 0.66。  \n",
    "而另一種方法的準確率較差，於testing set上的準確率為0.56。  "
   ]
  },
  {
   "cell_type": "markdown",
   "metadata": {},
   "source": [
    "## 3.2 缺點與未來改進方向"
   ]
  },
  {
   "cell_type": "markdown",
   "metadata": {},
   "source": [
    "我們覺得這次的比賽，應該是犯了模型不穩定的錯誤。  \n",
    "因為，在比賽期間我們選出最好的model，在比賽結束後的表現反而較差。  \n",
    "我們曾思考過是否為over-fitting的現象，但其實我們並沒有真的使用任何machine learing的方法，也沒有適配過於複雜的函數。  \n",
    "相反的，我們只有使用word2vec的方式去計算詞與詞的距離。  \n",
    "因此，也許這種過於簡單的方式並不robust，我們無法只根據比賽期間的準確率來選擇模型。  \n",
    "\n",
    "未來在進行相似的分析時，我們也許可以考慮以下兩種方式來改進:  \n",
    "1. 在目前的架構下做改進:\n",
    "2. 改使用那天分享那些隊的方式\n",
    "\n",
    "對於第一點，我們可以再多建幾個新feature，使用較不複雜的model(如logistic regression)，並對training set做cross-validation來選擇模型，而不是像這次比賽時，我們只以比賽期間的提交數據來選擇模型。如此一來，應該可以加強選模的穩定性。  \n",
    "\n",
    "對於第二點，我們可以嘗試bi-LSTM的方法以及切字上採用character去切來提升我們的模型成效。"
   ]
  },
  {
   "cell_type": "code",
   "execution_count": null,
   "metadata": {},
   "outputs": [],
   "source": []
  }
 ],
 "metadata": {
  "kernelspec": {
   "display_name": "Python 3",
   "language": "python",
   "name": "python3"
  },
  "language_info": {
   "codemirror_mode": {
    "name": "ipython",
    "version": 3
   },
   "file_extension": ".py",
   "mimetype": "text/x-python",
   "name": "python",
   "nbconvert_exporter": "python",
   "pygments_lexer": "ipython3",
   "version": "3.6.5"
  }
 },
 "nbformat": 4,
 "nbformat_minor": 2
}
