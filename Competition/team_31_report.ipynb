{
 "cells": [
  {
   "cell_type": "markdown",
   "metadata": {},
   "source": [
    "107062634 林奕廷<br>\n",
    "104062522 吳家承<br>\n",
    "106024518 張家豪<br>"
   ]
  },
  {
   "cell_type": "markdown",
   "metadata": {},
   "source": [
    "# 實驗\n",
    "這次我們總共進行了8次的測試，主要可以分兩個面向來看。<br>\n",
    "第一個是使用padding data作為training data，第二個是使用original data作為training data。<br>\n",
    "會有這樣的發想主要是因為在padding data的情況下，training出來的結果不盡理想。<br>\n",
    "所以猜測是否有些data在padding過後，padding的數量太多，影響到訓練效果。<br>\n",
    "因此進行了第二種嘗試，即是使用original data作為訓練資料集。<br>\n",
    "經由結果來看，第二種嘗試所反應出來的效果相當的不錯，幾乎是有辦法可跟TA-60打平了。<br>\n",
    "在這兩種嘗試中，我們都分別測試了50,100,150,200的epochs，最後結果反映在100 epochs訓練成績最為佳。<br>\n",
    "我們訓練的方式主要為，在前100個epochs中使用0.001 learning rate 進行訓練。<br>\n",
    "在100個epochs 後，發現到loss開始呈現降不下去的趨勢，因此將learning rate降為0.0001接續著訓練。<br>\n",
    "另外，在這次的實驗中，還有關於evaluate的測試。<br>\n",
    "這次總共訓練出兩個版本的evaluation。<br>\n",
    "第一個是利用網路上已有的npy檔案做訓練，在測試訓練成果相當不錯，準確率約至0.92。<br>\n",
    "不過當我們拿來play game時，並沒有辦法適當的分辨出類別。<br>\n",
    "我認為這可能是因為在play game的過程中，一人畫一筆往往使得畫出來的圖有些不合理。<br>\n",
    "因此基於訓練的資料集不夠健全時，使得辨識效果不佳。<br>\n",
    "第二個版本是使用padding 過後的data進行 evaluation model的訓練。<br>\n",
    "此版本訓練出來的較上一個版本稍微好一點，不過還是有許多場次肉眼是可以輕易辨認出來的，但是卻無法辨識。<br>\n",
    "我認為若須改進則必須在花較久的時間以及較多樣化的資料集進行訓練。<br>"
   ]
  },
  {
   "cell_type": "markdown",
   "metadata": {},
   "source": [
    "# 結論: \n",
    "這次看結果排名大約在中間。 <br>\n",
    "如果要改進的話，我想可以利用助教所提示的data augmentation下去進行。<br>\n",
    "根據以往的經驗，每個資料些微的變動就可以幫助整個訓練的質量。<br>\n",
    "但是進行微調的量可能就是需要慢慢嘗試，因為根據之前一次對原本資料太大的扭曲反而會降低學習的品質。<br>\n",
    "另外，觀察到在對打ice的時候，非常容易就會輸給ice。<br>\n",
    "我想這可能是因為ice整個構圖較為簡單，所以經過少數幾個筆畫後整個比賽就會帶往ice那邊去。<br>\n",
    "我認為或許可以針對特徵更細部的去做訓練，例如；燈泡的話可先引導畫出燈絲。<br>\n",
    "這樣或許可以在開始判斷是畫什麼，能較快的領先整個圖像的走勢。<br>"
   ]
  }
 ],
 "metadata": {
  "kernelspec": {
   "display_name": "Python 3",
   "language": "python",
   "name": "python3"
  },
  "language_info": {
   "codemirror_mode": {
    "name": "ipython",
    "version": 3
   },
   "file_extension": ".py",
   "mimetype": "text/x-python",
   "name": "python",
   "nbconvert_exporter": "python",
   "pygments_lexer": "ipython3",
   "version": "3.5.4"
  }
 },
 "nbformat": 4,
 "nbformat_minor": 2
}
