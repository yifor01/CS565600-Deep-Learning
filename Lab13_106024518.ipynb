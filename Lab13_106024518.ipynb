{
 "cells": [
  {
   "cell_type": "markdown",
   "metadata": {},
   "source": [
    "## Lab13 "
   ]
  },
  {
   "cell_type": "code",
   "execution_count": 1,
   "metadata": {},
   "outputs": [
    {
     "name": "stderr",
     "output_type": "stream",
     "text": [
      "C:\\Users\\stat_pc\\Anaconda3\\lib\\site-packages\\h5py\\__init__.py:36: FutureWarning: Conversion of the second argument of issubdtype from `float` to `np.floating` is deprecated. In future, it will be treated as `np.float64 == np.dtype(float).type`.\n",
      "  from ._conv import register_converters as _register_converters\n"
     ]
    }
   ],
   "source": [
    "import numpy as np\n",
    "import random\n",
    "#import spacy\n",
    "import tensorflow as tf\n",
    "from sklearn import preprocessing"
   ]
  },
  {
   "cell_type": "code",
   "execution_count": 2,
   "metadata": {},
   "outputs": [],
   "source": [
    "#nlp = spacy.load('en_core_web_md')\n",
    "\n",
    "#word_apple = nlp('apple')\n",
    "#word_banana = nlp('banana')\n",
    "#word_mac = nlp('mac')\n",
    "#print('%s vs %s: %.6f'%(word_apple, word_banana, word_apple.similarity(word_banana)))"
   ]
  },
  {
   "cell_type": "markdown",
   "metadata": {},
   "source": [
    "## Processed Data"
   ]
  },
  {
   "cell_type": "code",
   "execution_count": 2,
   "metadata": {},
   "outputs": [],
   "source": [
    "def get_id2line():\n",
    "    lines=open('dataset/chatbot/movie_lines.txt', 'r', encoding='utf-8', errors='ignore').read().split('\\n')\n",
    "    id2line = {}\n",
    "    for line in lines:\n",
    "        _line = line.split(' +++$+++ ')\n",
    "        if len(_line) == 5:\n",
    "            id2line[_line[0]] = _line[4]\n",
    "    return id2line\n",
    "\n",
    "'''\n",
    "    1. Read from 'movie_conversations.txt'\n",
    "    2. Create a list of [list of line_id's]\n",
    "'''\n",
    "def get_conversations():\n",
    "    conv_lines = open('dataset/chatbot/movie_conversations.txt').read().split('\\n')\n",
    "    convs = [ ]\n",
    "    for line in conv_lines[:-1]:\n",
    "        _line = line.split(' +++$+++ ')[-1][1:-1].replace(\"'\",\"\").replace(\" \",\"\")\n",
    "        convs.append(_line.split(','))\n",
    "    return convs\n",
    "\n",
    "'''\n",
    "    1. Get each conversation\n",
    "    2. Get each line from conversation\n",
    "    3. Save each conversation to file\n",
    "'''\n",
    "def extract_conversations(convs,id2line,path=''):\n",
    "    idx = 0\n",
    "    for conv in convs:\n",
    "        f_conv = open(path + str(idx)+'.txt', 'w')\n",
    "        for line_id in conv:\n",
    "            f_conv.write(id2line[line_id])\n",
    "            f_conv.write('\\n')\n",
    "        f_conv.close()\n",
    "        idx += 1\n",
    "\n",
    "'''\n",
    "    Get lists of all conversations as Questions and Answers\n",
    "    1. [questions]\n",
    "    2. [answers]\n",
    "'''\n",
    "def gather_dataset(convs, id2line):\n",
    "    questions = []; answers = []\n",
    "\n",
    "    for conv in convs:\n",
    "        if len(conv) %2 != 0:\n",
    "            conv = conv[:-1]\n",
    "        for i in range(len(conv)):\n",
    "            if i%2 == 0:\n",
    "                questions.append(id2line[conv[i]])\n",
    "            else:\n",
    "                answers.append(id2line[conv[i]])\n",
    "\n",
    "    return questions, answers\n",
    "\n",
    "def prepare_seq2seq_files(questions, answers, path='',TESTSET_SIZE = 10000):\n",
    "    \n",
    "    # open files\n",
    "    train_enc = open(path + 'train.enc','w')\n",
    "    train_dec = open(path + 'train.dec','w')\n",
    "    test_enc  = open(path + 'test.enc', 'w')\n",
    "    test_dec  = open(path + 'test.dec', 'w')\n",
    "\n",
    "    # choose 30,000 (TESTSET_SIZE) items to put into testset\n",
    "    test_ids = random.sample([i for i in range(len(questions))],TESTSET_SIZE)\n",
    "\n",
    "    for i in range(len(questions)):\n",
    "        if i in test_ids:\n",
    "            test_enc.write(questions[i]+'\\n')\n",
    "            test_dec.write(answers[i]+ '\\n' )\n",
    "        else:\n",
    "            train_enc.write(questions[i]+'\\n')\n",
    "            train_dec.write(answers[i]+ '\\n' )\n",
    "        if i%10000 == 0:\n",
    "            print ('\\n>> written %d lines' %(i) )\n",
    "\n",
    "    # close files\n",
    "    train_enc.close()\n",
    "    train_dec.close()\n",
    "    test_enc.close()\n",
    "    test_dec.close()\n",
    "            "
   ]
  },
  {
   "cell_type": "code",
   "execution_count": 3,
   "metadata": {},
   "outputs": [
    {
     "name": "stdout",
     "output_type": "stream",
     "text": [
      ">> gathered id2line dictionary.\n",
      "\n"
     ]
    }
   ],
   "source": [
    "# load lines dictionary \n",
    "lines = open('dataset/chatbot/movie_lines.txt', encoding='utf-8', errors='ignore').read().split('\\n')\n",
    "\n",
    "# load conversations\n",
    "convs = open('dataset/chatbot/movie_conversations.txt', encoding='utf-8', errors='ignore').read().split('\\n')\n",
    "\n",
    "id2line = get_id2line()\n",
    "convers = get_conversations()\n",
    "\n",
    "print ('>> gathered id2line dictionary.\\n')"
   ]
  },
  {
   "cell_type": "markdown",
   "metadata": {},
   "source": [
    "## 還原對話"
   ]
  },
  {
   "cell_type": "code",
   "execution_count": 4,
   "metadata": {},
   "outputs": [],
   "source": [
    "questions, answers = gather_dataset(convers,id2line)"
   ]
  },
  {
   "cell_type": "code",
   "execution_count": 5,
   "metadata": {},
   "outputs": [
    {
     "name": "stdout",
     "output_type": "stream",
     "text": [
      "Can we make this quick?  Roxanne Korrine and Andrew Barrett are having an incredibly horrendous public break- up on the quad.  Again.\n"
     ]
    }
   ],
   "source": [
    "print (questions[0])"
   ]
  },
  {
   "cell_type": "code",
   "execution_count": 6,
   "metadata": {},
   "outputs": [
    {
     "name": "stdout",
     "output_type": "stream",
     "text": [
      "Well, I thought we'd start with pronunciation, if that's okay with you.\n"
     ]
    }
   ],
   "source": [
    "print (answers[0])"
   ]
  },
  {
   "cell_type": "markdown",
   "metadata": {},
   "source": [
    "## 製造traing set"
   ]
  },
  {
   "cell_type": "code",
   "execution_count": 7,
   "metadata": {},
   "outputs": [
    {
     "name": "stdout",
     "output_type": "stream",
     "text": [
      "\n",
      ">> written 0 lines\n",
      "\n",
      ">> written 10000 lines\n",
      "\n",
      ">> written 20000 lines\n",
      "\n",
      ">> written 30000 lines\n",
      "\n",
      ">> written 40000 lines\n",
      "\n",
      ">> written 50000 lines\n",
      "\n",
      ">> written 60000 lines\n",
      "\n",
      ">> written 70000 lines\n",
      "\n",
      ">> written 80000 lines\n",
      "\n",
      ">> written 90000 lines\n",
      "\n",
      ">> written 100000 lines\n",
      "\n",
      ">> written 110000 lines\n",
      "\n",
      ">> written 120000 lines\n",
      "\n",
      ">> written 130000 lines\n"
     ]
    }
   ],
   "source": [
    "prepare_seq2seq_files(questions,answers)"
   ]
  },
  {
   "cell_type": "code",
   "execution_count": 8,
   "metadata": {},
   "outputs": [],
   "source": [
    "train_enc = open('train.enc','r').read().split('\\n') #question for train\n",
    "train_dec = open('train.dec','r').read().split('\\n') #answer for train\n",
    "test_enc = open('test.enc','r').read().split('\\n') #question for test\n",
    "test_dec = open('test.enc','r').read().split('\\n')#answer for test"
   ]
  },
  {
   "cell_type": "code",
   "execution_count": 9,
   "metadata": {},
   "outputs": [
    {
     "name": "stdout",
     "output_type": "stream",
     "text": [
      "['Can we make this quick?  Roxanne Korrine and Andrew Barrett are having an incredibly horrendous public break- up on the quad.  Again.', 'Not the hacking and gagging and spitting part.  Please.', \"You're asking me out.  That's so cute. What's your name again?\", \"No, no, it's my fault -- we didn't have a proper introduction ---\", \"The thing is, Cameron -- I'm at the mercy of a particularly hideous breed of loser.  My sister.  I can't date until she does.\"]\n"
     ]
    }
   ],
   "source": [
    "print(train_enc[:5])"
   ]
  },
  {
   "cell_type": "markdown",
   "metadata": {},
   "source": [
    "## 加上  BEG END"
   ]
  },
  {
   "cell_type": "code",
   "execution_count": 10,
   "metadata": {},
   "outputs": [],
   "source": [
    "train_enc_new=[]\n",
    "train_dec_new=[]\n",
    "test_enc_new=[]\n",
    "test_dec_new=[]\n",
    "for i in train_enc:\n",
    "    train_enc_new.append('<BEG>'+' '+ i +' '+'<END>')\n",
    "\n",
    "for i in train_dec:\n",
    "    train_dec_new.append('<BEG>'+' '+ i +' '+'<END>')\n",
    "\n",
    "for i in test_enc:\n",
    "    test_enc_new.append('<BEG>'+' '+ i +' '+'<END>')\n",
    "\n",
    "for i in test_dec:\n",
    "    test_dec_new.append('<BEG>'+' '+ i +' '+'<END>')\n"
   ]
  },
  {
   "cell_type": "code",
   "execution_count": 11,
   "metadata": {},
   "outputs": [
    {
     "name": "stdout",
     "output_type": "stream",
     "text": [
      "['<BEG> Can we make this quick?  Roxanne Korrine and Andrew Barrett are having an incredibly horrendous public break- up on the quad.  Again. <END>', '<BEG> Not the hacking and gagging and spitting part.  Please. <END>', \"<BEG> You're asking me out.  That's so cute. What's your name again? <END>\", \"<BEG> No, no, it's my fault -- we didn't have a proper introduction --- <END>\", \"<BEG> The thing is, Cameron -- I'm at the mercy of a particularly hideous breed of loser.  My sister.  I can't date until she does. <END>\"]\n"
     ]
    }
   ],
   "source": [
    "print(train_enc_new[:5])"
   ]
  },
  {
   "cell_type": "code",
   "execution_count": 12,
   "metadata": {},
   "outputs": [
    {
     "name": "stdout",
     "output_type": "stream",
     "text": [
      " 128136 \n",
      " 128136\n"
     ]
    }
   ],
   "source": [
    "print('',len(train_enc_new),'\\n',len(train_dec_new))"
   ]
  },
  {
   "cell_type": "markdown",
   "metadata": {},
   "source": [
    "## 轉label"
   ]
  },
  {
   "cell_type": "code",
   "execution_count": 218,
   "metadata": {},
   "outputs": [],
   "source": [
    "qq1 = np.array([f for f in range(3200,4000)]+[f for f in range(1590,2000)]+[f for f in range(3850,3900)]+[f for f in range(5700,5900)]+ [f for f in range(30600,30700)]+[f for f in range(67100,67300)]+[f for f in range(53820,53900)]+[f for f in range(54792,54900)]+[f for f in range(118903,119200)]+[f for f in range(91450,91500)]+[f for f in range(75630,75650)])\n",
    "train=[]  \n",
    "\n",
    "for j in qq1:\n",
    "    train.append(train_enc_new[j])\n",
    "\n",
    "for j in qq1:\n",
    "    train.append(train_dec_new[j])"
   ]
  },
  {
   "cell_type": "markdown",
   "metadata": {},
   "source": [
    "## 將字全部轉出來 ----> vob"
   ]
  },
  {
   "cell_type": "code",
   "execution_count": 222,
   "metadata": {},
   "outputs": [],
   "source": [
    "vob={'<BEG>':0,'<END>':1,'<PAD>':2}\n",
    "id=3\n",
    "for line in train:\n",
    "    tline=line.split()\n",
    "    for token in tline:\n",
    "        if  token not in vob:\n",
    "            vob[token]=id\n",
    "            id=id+1"
   ]
  },
  {
   "cell_type": "markdown",
   "metadata": {
    "collapsed": true
   },
   "source": [
    "##  反函數 Vob_rev [ Number ] -->Str"
   ]
  },
  {
   "cell_type": "code",
   "execution_count": 223,
   "metadata": {},
   "outputs": [],
   "source": [
    "vob_rev={}\n",
    "for key ,value in list(vob.items()):\n",
    "    vob_rev[value]=key"
   ]
  },
  {
   "cell_type": "code",
   "execution_count": 224,
   "metadata": {
    "scrolled": false
   },
   "outputs": [
    {
     "name": "stdout",
     "output_type": "stream",
     "text": [
      "1621\n",
      "2271\n",
      "2296\n"
     ]
    }
   ],
   "source": [
    "for i in range(len(train)):\n",
    "    if train[i]=='<BEG> You look great. <END>':\n",
    "        print(i)"
   ]
  },
  {
   "cell_type": "markdown",
   "metadata": {},
   "source": [
    "## Vob[ Str ]--->Number"
   ]
  },
  {
   "cell_type": "code",
   "execution_count": 226,
   "metadata": {},
   "outputs": [],
   "source": [
    "question_corpus=[]\n",
    "answer_corpus=[]\n",
    "for w,l in zip(train[0:2315],train[2315:4630]):\n",
    "    s=[vob[j] for j in w.split()]\n",
    "    p=[vob[j] for j in l.split()]\n",
    "    if len(s)<11 :\n",
    "        if len(p)<11:\n",
    "            question_corpus.append(s)\n",
    "            answer_corpus.append(p)"
   ]
  },
  {
   "cell_type": "markdown",
   "metadata": {},
   "source": [
    "## 看資料的長度"
   ]
  },
  {
   "cell_type": "code",
   "execution_count": 228,
   "metadata": {},
   "outputs": [
    {
     "name": "stdout",
     "output_type": "stream",
     "text": [
      "10 10\n"
     ]
    }
   ],
   "source": [
    "question_corpus_max = 0\n",
    "answer_corpus_max = 0\n",
    "\n",
    "for i in range(len(question_corpus)):\n",
    "    # caculate max length\n",
    "    question_corpus_max = max(question_corpus_max, len(question_corpus[i]))\n",
    "    answer_corpus_max = max(answer_corpus_max, len(answer_corpus[i]))\n",
    "\n",
    "print(question_corpus_max, answer_corpus_max)"
   ]
  },
  {
   "cell_type": "code",
   "execution_count": 229,
   "metadata": {},
   "outputs": [],
   "source": [
    "class BatchGenerator:\n",
    "\n",
    "  def __init__(self, en_corpus, ch_corpus, en_pad, ch_pad, en_max_len,\n",
    "               ch_max_len, batch_size):\n",
    "    n = len(en_corpus)\n",
    "    batch_num = len(en_corpus) // batch_size\n",
    "    n = batch_num * batch_size\n",
    "\n",
    "    self.xs = [np.zeros(n, dtype=np.int32)\n",
    "               for _ in range(en_max_len)]  # encoder inputs\n",
    "    self.ys = [np.zeros(n, dtype=np.int32)\n",
    "               for _ in range(ch_max_len)]  # decoder inputs\n",
    "    self.gs = [np.zeros(n, dtype=np.int32)\n",
    "               for _ in range(ch_max_len)]  # decoder outputs\n",
    "    self.ws = [np.zeros(n, dtype=np.float32)\n",
    "               for _ in range(ch_max_len)]  # decoder weight for loss caculation\n",
    "\n",
    "    self.en_max_len = en_max_len\n",
    "    self.ch_max_len = ch_max_len\n",
    "    self.batch_size = batch_size\n",
    "\n",
    "    for b in range(batch_num):\n",
    "      for i in range(b * batch_size, (b + 1) * batch_size):\n",
    "        for j in range(len(en_corpus[i]) - 2):\n",
    "          self.xs[j][i] = en_corpus[i][j + 1]\n",
    "        for j in range(j + 1, en_max_len):\n",
    "          self.xs[j][i] = en_pad\n",
    "\n",
    "        for j in range(len(ch_corpus[i]) - 1):\n",
    "          self.ys[j][i] = ch_corpus[i][j]\n",
    "          self.gs[j][i] = ch_corpus[i][j + 1]\n",
    "          self.ws[j][i] = 1.0\n",
    "        for j in range(\n",
    "            j + 1, ch_max_len):  # don't forget padding and let loss weight zero\n",
    "          self.ys[j][i] = ch_pad\n",
    "          self.gs[j][i] = ch_pad\n",
    "          self.ws[j][i] = 0.0\n",
    "\n",
    "  def get(self, batch_id):\n",
    "    x = [\n",
    "        self.xs[i][batch_id * self.batch_size:(batch_id + 1) * self.batch_size]\n",
    "        for i in range(self.en_max_len)\n",
    "    ]\n",
    "    y = [\n",
    "        self.ys[i][batch_id * self.batch_size:(batch_id + 1) * self.batch_size]\n",
    "        for i in range(self.ch_max_len)\n",
    "    ]\n",
    "    g = [\n",
    "        self.gs[i][batch_id * self.batch_size:(batch_id + 1) * self.batch_size]\n",
    "        for i in range(self.ch_max_len)\n",
    "    ]\n",
    "    w = [\n",
    "        self.ws[i][batch_id * self.batch_size:(batch_id + 1) * self.batch_size]\n",
    "        for i in range(self.ch_max_len)\n",
    "    ]\n",
    "\n",
    "    return x, y, g, w"
   ]
  },
  {
   "cell_type": "code",
   "execution_count": 230,
   "metadata": {},
   "outputs": [],
   "source": [
    "batch = BatchGenerator(question_corpus, answer_corpus,vob['<PAD>'] ,vob['<PAD>'] ,question_corpus_max, \n",
    "                       answer_corpus_max,4)\n",
    "x, y, g, w = batch.get(2)"
   ]
  },
  {
   "cell_type": "code",
   "execution_count": 231,
   "metadata": {},
   "outputs": [
    {
     "name": "stdout",
     "output_type": "stream",
     "text": [
      "Come on, Jack, shall we go?!! <PAD> <PAD> <PAD> <PAD>\n",
      "<BEG> Apparently so. <PAD> <PAD> <PAD> <PAD> <PAD> <PAD> <PAD>\n",
      "Apparently so. <END> <PAD> <PAD> <PAD> <PAD> <PAD> <PAD> <PAD>\n",
      "\n",
      "Beware the moon? <PAD> <PAD> <PAD> <PAD> <PAD> <PAD> <PAD>\n",
      "<BEG> Come on, I'm freezing. <PAD> <PAD> <PAD> <PAD> <PAD>\n",
      "Come on, I'm freezing. <END> <PAD> <PAD> <PAD> <PAD> <PAD>\n",
      "\n"
     ]
    }
   ],
   "source": [
    "for i in range(2):\n",
    "    print(' '.join([vob_rev[x[j][i]] for j in range(question_corpus_max)]))\n",
    "    print(' '.join([vob_rev[y[j][i]] for j in range(answer_corpus_max)]))\n",
    "    print(' '.join([vob_rev[g[j][i]] for j in range(answer_corpus_max)]))\n",
    "    print('')"
   ]
  },
  {
   "cell_type": "markdown",
   "metadata": {},
   "source": [
    "## Seq2Seq Model"
   ]
  },
  {
   "cell_type": "code",
   "execution_count": 232,
   "metadata": {},
   "outputs": [],
   "source": [
    "class MachineTranslationSeq2Seq:\n",
    "    def __init__(self, en_max_len, ch_max_len, en_size, ch_size):\n",
    "        self.en_max_len = en_max_len\n",
    "        self.ch_max_len = ch_max_len\n",
    "        \n",
    "        with tf.variable_scope('seq2seq_intput/output'):\n",
    "            self.enc_inputs = [tf.placeholder(tf.int32, [None]) for i in range(en_max_len)] # time mojor feed\n",
    "            self.dec_inputs = [tf.placeholder(tf.int32, [None]) for i in range(ch_max_len)]\n",
    "            self.groundtruths = [tf.placeholder(tf.int32, [None]) for i in range(ch_max_len)]\n",
    "            self.weights = [tf.placeholder(tf.float32, [None]) for i in range(ch_max_len)]\n",
    "            \n",
    "        with tf.variable_scope('seq2seq_rnn'): # training by teacher forcing\n",
    "            self.out_cell = tf.contrib.rnn.LSTMCell(512)\n",
    "            self.outputs, _ = tf.contrib.legacy_seq2seq.embedding_attention_seq2seq(self.enc_inputs, self.dec_inputs, \n",
    "                                                                                    self.out_cell, \n",
    "                                                                                    en_size, ch_size, 300)\n",
    "        with tf.variable_scope('seq2seq_rnn', reuse=True): # predict by feeding previous\n",
    "            self.pred_cell = tf.contrib.rnn.LSTMCell(512, reuse=True) # reuse cell for train and test\n",
    "            self.predictions, _ = tf.contrib.legacy_seq2seq.embedding_attention_seq2seq(self.enc_inputs, self.dec_inputs, \n",
    "                                                                                        self.pred_cell, \n",
    "                                                                                        en_size, ch_size, 300, \n",
    "                                                                                        feed_previous=True)\n",
    "        \n",
    "        with tf.variable_scope('loss'):\n",
    "            # caculate weighted loss\n",
    "            self.loss = tf.reduce_mean(tf.contrib.legacy_seq2seq.sequence_loss_by_example(self.outputs, \n",
    "                                                                                          self.groundtruths, \n",
    "                                                                                          self.weights))\n",
    "            self.optimizer = tf.train.AdamOptimizer(0.002).minimize(self.loss)\n",
    "        \n",
    "        config = tf.ConfigProto()\n",
    "        config.gpu_options.allow_growth = True\n",
    "        self.sess = tf.Session(config=config)\n",
    "        self.saver = tf.train.Saver()\n",
    "        self.sess.run(tf.global_variables_initializer())\n",
    "    \n",
    "    def train(self, x, y, g, w):\n",
    "        fd = {}\n",
    "        for i in range(self.en_max_len):\n",
    "            fd[self.enc_inputs[i]] = x[i] # show how to feed a list\n",
    "        \n",
    "        for i in range(self.ch_max_len):\n",
    "            fd[self.dec_inputs[i]] = y[i]\n",
    "            fd[self.groundtruths[i]] = g[i]\n",
    "            fd[self.weights[i]] = w[i]\n",
    "        \n",
    "        loss, _ = self.sess.run([self.loss, self.optimizer], fd)\n",
    "        \n",
    "        return loss\n",
    "\n",
    "    def output(self, x, y):\n",
    "        fd = {}\n",
    "        for i in range(self.en_max_len):\n",
    "            fd[self.enc_inputs[i]] = x[i]\n",
    "        \n",
    "        for i in range(self.ch_max_len):\n",
    "            fd[self.dec_inputs[i]] = y[i]\n",
    "        \n",
    "        out = self.sess.run(self.outputs, fd)\n",
    "        \n",
    "        return out\n",
    "    \n",
    "    def predict(self, x, ch_beg):\n",
    "        fd = {}\n",
    "        for i in range(self.en_max_len):\n",
    "            fd[self.enc_inputs[i]] = x[i]\n",
    "        \n",
    "        for i in range(self.ch_max_len): # when feed previous, the fist token should be '<BEG>', and others are useless\n",
    "            if i==0:\n",
    "                fd[self.dec_inputs[i]] = np.ones(y[i].shape, dtype=np.int32)*ch_beg\n",
    "            else:\n",
    "                fd[self.dec_inputs[i]] = np.zeros(y[i].shape, dtype=np.int32)\n",
    "        \n",
    "        pd = self.sess.run(self.predictions, fd)\n",
    "        \n",
    "        return pd\n",
    "    \n",
    "    def save(self, e):\n",
    "        self.saver.save(self.sess, 'model/seq2seq/seq2seq_%d.ckpt'%(e+1))\n",
    "    \n",
    "    def restore(self, e):\n",
    "        self.saver.restore(self.sess, 'model/seq2seq/seq2seq_%d.ckpt'%(e))"
   ]
  },
  {
   "cell_type": "code",
   "execution_count": 233,
   "metadata": {
    "scrolled": false
   },
   "outputs": [],
   "source": [
    "tf.reset_default_graph()\n",
    "model = MachineTranslationSeq2Seq(question_corpus_max,answer_corpus_max,len(vob), len(vob))"
   ]
  },
  {
   "cell_type": "code",
   "execution_count": 234,
   "metadata": {},
   "outputs": [],
   "source": [
    "EPOCHS = 20\n",
    "BATCH_SIZE = 256\n",
    "batch_num = len(question_corpus) // BATCH_SIZE\n",
    "\n",
    "batch = BatchGenerator(question_corpus, answer_corpus,vob['<PAD>'] ,vob['<PAD>'] ,question_corpus_max, \n",
    "                       answer_corpus_max,BATCH_SIZE)"
   ]
  },
  {
   "cell_type": "code",
   "execution_count": 235,
   "metadata": {},
   "outputs": [
    {
     "name": "stdout",
     "output_type": "stream",
     "text": [
      "epoch 0 loss: 10.492053\n",
      "epoch 1 loss: 9.448930\n",
      "epoch 2 loss: 6.858658\n",
      "epoch 3 loss: 5.612549\n",
      "epoch 4 loss: 5.288421\n",
      "epoch 5 loss: 5.061787\n",
      "epoch 6 loss: 4.903818\n",
      "epoch 7 loss: 4.591704\n",
      "epoch 8 loss: 4.281727\n",
      "epoch 9 loss: 3.961345\n",
      "epoch 10 loss: 3.676352\n",
      "epoch 11 loss: 3.335431\n",
      "epoch 12 loss: 2.940271\n",
      "epoch 13 loss: 2.575779\n",
      "epoch 14 loss: 2.194136\n",
      "epoch 15 loss: 1.894492\n",
      "epoch 16 loss: 1.623609\n",
      "epoch 17 loss: 1.460045\n",
      "epoch 18 loss: 1.226701\n",
      "epoch 19 loss: 1.016772\n",
      "Wall time: 13min 23s\n"
     ]
    }
   ],
   "source": [
    "%%time\n",
    "# train seq2seq\n",
    "rec_loss = []\n",
    "for e in range(EPOCHS):\n",
    "    train_loss = 0\n",
    "    \n",
    "    for b in range(batch_num):\n",
    "        x, y, g, w = batch.get(b)\n",
    "        batch_loss = model.train(x, y, g, w)\n",
    "        train_loss += batch_loss\n",
    "    \n",
    "    train_loss /= batch_num\n",
    "    rec_loss.append(train_loss)\n",
    "    print(\"epoch %d loss: %f\" % (e, train_loss))\n",
    "    \n",
    "    model.save(e)\n",
    "    \n",
    "np.save('./model/seq2seq/rec_loss1.npy', rec_loss)"
   ]
  },
  {
   "cell_type": "code",
   "execution_count": 236,
   "metadata": {},
   "outputs": [
    {
     "data": {
      "image/png": "[encoded data removed]",
      "text/plain": [
       "<Figure size 432x288 with 1 Axes>"
      ]
     },
     "metadata": {},
     "output_type": "display_data"
    }
   ],
   "source": [
    "#rec_loss = np.load('./model/seq2seq/rec_loss1.npy')\n",
    "\n",
    "import matplotlib.pyplot as plt\n",
    "\n",
    "plt_loss = plt.plot([rec_loss[i] for i in range(len(rec_loss))])\n",
    "plt.legend(['Loss'])\n",
    "plt.show()"
   ]
  },
  {
   "cell_type": "code",
   "execution_count": 237,
   "metadata": {},
   "outputs": [],
   "source": [
    "import nltk\n",
    "\n",
    "def cherry_pick(records, n, upper_bound=1.0):\n",
    "    bleus = []\n",
    "    \n",
    "    for en, ch_gr, ch_pd in records:\n",
    "        # caculate BLEU by nltk\n",
    "        bleu = nltk.translate.bleu_score.sentence_bleu([ch_gr], ch_pd)\n",
    "        bleus.append(bleu)\n",
    "    \n",
    "    lst = [i for i in range(len(records)) if bleus[i]<=upper_bound]\n",
    "    lst = sorted(lst, key=lambda i: bleus[i], reverse=True) # sort by BLEU score\n",
    "    \n",
    "    return [records[lst[i]] for i in range(n)]"
   ]
  },
  {
   "cell_type": "markdown",
   "metadata": {},
   "source": [
    "### 找出符合5個問題的set儲存起來"
   ]
  },
  {
   "cell_type": "code",
   "execution_count": 240,
   "metadata": {
    "scrolled": false
   },
   "outputs": [
    {
     "name": "stdout",
     "output_type": "stream",
     "text": [
      "0\n",
      "['Hello.']\n",
      "['Where', 'are', 'you', 'going?']\n",
      "1\n",
      "['Where', 'are', 'you', 'going?']\n",
      "2\n",
      "['You', 'look', 'great.']\n",
      "['Good', 'night.']\n",
      "['Good', 'night.']\n",
      "['How', 'are', 'you?']\n"
     ]
    }
   ],
   "source": [
    "import random as rd\n",
    "\n",
    "records = []\n",
    "\n",
    "for i in range(batch_num):\n",
    "    print(i)\n",
    "    #i = rd.randint(0, batch_num - 1)  # random pick one to translate\n",
    "  \n",
    "    x, y, g, w = batch.get(i)\n",
    "    out = model.output(x, y)\n",
    "    pd = model.predict(x, vob['<BEG>'])\n",
    "    \n",
    "    for j in range(256):\n",
    "        #j = rd.randint(0, BATCH_SIZE - 1)\n",
    "        en = [vob_rev[x[k][j]] for k in range(question_corpus_max)]\n",
    "        en = en[:en.index('<PAD>')]\n",
    "        if (['Hello.'] == en)|(['How','are','you?']== en)|(['Where','are','you','going?']== en)| (['You','look','great.'] == en)|(['Good','night.'] == en)  :\n",
    "            print(en)\n",
    "            ch_gr = [vob_rev[g[k][j]] for k in range(answer_corpus_max)]\n",
    "            if '<END>' in ch_gr:\n",
    "                ch_gr = ch_gr[:ch_gr.index('<END>')]\n",
    "            ch_pd = [vob_rev[np.argmax(pd[i][j, :])] for i in range(answer_corpus_max)]\n",
    "            if '<END>' in ch_pd:\n",
    "                ch_pd = ch_pd[:ch_pd.index('<END>')]\n",
    "\n",
    "            records.append([en, ch_gr, ch_pd])"
   ]
  },
  {
   "cell_type": "code",
   "execution_count": 192,
   "metadata": {},
   "outputs": [
    {
     "name": "stdout",
     "output_type": "stream",
     "text": [
      "Good boy. <PAD> <PAD>\n",
      "Jack. <END> <PAD> <PAD>\n"
     ]
    }
   ],
   "source": [
    "#測試\n",
    "#len(batch.get(2))\n",
    "#a1 = 0\n",
    "#a2 = 2\n",
    "#a3 = 21\n",
    "#\n",
    "#print(vob_rev[batch.get(a1)[0][a2][a3]]+' '+vob_rev[batch.get(a1)[0][a2+1][a3]]+' '+vob_rev[batch.get(a1)[0][a2+2][a3]]+' '+\\\n",
    "#vob_rev[batch.get(a1)[0][a2+3][a3]])\n",
    "#\n",
    "#print(vob_rev[batch.get(a1)[2][a2][a3]]+' '+vob_rev[batch.get(a1)[2][a2+1][a3]]+' '+vob_rev[batch.get(a1)[2][a2+2][a3]]+' '+\\\n",
    "#vob_rev[batch.get(a1)[2][a2+3][a3]])"
   ]
  },
  {
   "cell_type": "code",
   "execution_count": 241,
   "metadata": {
    "scrolled": false
   },
   "outputs": [
    {
     "name": "stdout",
     "output_type": "stream",
     "text": [
      "Encoder input\n",
      "Ground truth\n",
      "Decoder output\n",
      "\n",
      "Where are you going?\n",
      "I'm just leaving.\n",
      "I'm just leaving.\n",
      "\n",
      "Where are you going?\n",
      "I'm just leaving.\n",
      "I'm just leaving.\n",
      "\n",
      "How are you?\n",
      "Another young man.\n",
      "Another young man.\n",
      "\n",
      "Good night.\n",
      "Good night.\n",
      "Good night.\n",
      "\n",
      "Good night.\n",
      "Good night.\n",
      "Good night.\n",
      "\n",
      "You look great.\n",
      "Thanks.\n",
      "Thanks.\n",
      "\n",
      "Hello.\n",
      "Nice to see you.\n",
      "You crucifying you.\n",
      "\n"
     ]
    },
    {
     "name": "stderr",
     "output_type": "stream",
     "text": [
      "C:\\Users\\stat_pc\\Anaconda3\\lib\\site-packages\\nltk\\translate\\bleu_score.py:503: UserWarning: \n",
      "The hypothesis contains 0 counts of 2-gram overlaps.\n",
      "Therefore the BLEU score evaluates to 0, independently of\n",
      "how many N-gram overlaps of lower order it contains.\n",
      "Consider using lower n-gram order or use SmoothingFunction()\n",
      "  warnings.warn(_msg)\n",
      "C:\\Users\\stat_pc\\Anaconda3\\lib\\site-packages\\nltk\\translate\\bleu_score.py:503: UserWarning: \n",
      "The hypothesis contains 0 counts of 3-gram overlaps.\n",
      "Therefore the BLEU score evaluates to 0, independently of\n",
      "how many N-gram overlaps of lower order it contains.\n",
      "Consider using lower n-gram order or use SmoothingFunction()\n",
      "  warnings.warn(_msg)\n",
      "C:\\Users\\stat_pc\\Anaconda3\\lib\\site-packages\\nltk\\translate\\bleu_score.py:503: UserWarning: \n",
      "The hypothesis contains 0 counts of 4-gram overlaps.\n",
      "Therefore the BLEU score evaluates to 0, independently of\n",
      "how many N-gram overlaps of lower order it contains.\n",
      "Consider using lower n-gram order or use SmoothingFunction()\n",
      "  warnings.warn(_msg)\n"
     ]
    }
   ],
   "source": [
    "print(\"Encoder input\")\n",
    "print(\"Ground truth\")\n",
    "print(\"Decoder output\")\n",
    "print()\n",
    "\n",
    "n = len(records)  # how many result we show\n",
    "rec_cherry = cherry_pick(records, n)\n",
    "\n",
    "for i in range(n):\n",
    "  for j in range(3):\n",
    "    print(' '.join(rec_cherry[i][j]))\n",
    "\n",
    "  print('')"
   ]
  },
  {
   "cell_type": "markdown",
   "metadata": {},
   "source": [
    "# Report\n",
    "\n",
    "1.首先先做資料清理，清洗完後按照之前第一次比賽的邏輯把資料count起來算idf。\n",
    "\n",
    "\n",
    "2.由於有指定需要的5個問題，先在train的地方確保這些字有在裡面。\n",
    "\n",
    "\n",
    "3.在seq2seq嘗試了許多次 發現epoch其實不用太高train在loss的反應上表現就不錯了\n",
    "\n",
    "\n",
    "4.資料清洗的地方做得還不夠徹底，導致train太多資料時電腦當機了許多次。\n"
   ]
  },
  {
   "cell_type": "code",
   "execution_count": null,
   "metadata": {},
   "outputs": [],
   "source": []
  }
 ],
 "metadata": {
  "kernelspec": {
   "display_name": "Python 3",
   "language": "python",
   "name": "python3"
  },
  "language_info": {
   "codemirror_mode": {
    "name": "ipython",
    "version": 3
   },
   "file_extension": ".py",
   "mimetype": "text/x-python",
   "name": "python",
   "nbconvert_exporter": "python",
   "pygments_lexer": "ipython3",
   "version": "3.6.5"
  }
 },
 "nbformat": 4,
 "nbformat_minor": 2
}
