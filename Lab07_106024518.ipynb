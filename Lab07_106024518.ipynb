{
 "cells": [
  {
   "cell_type": "code",
   "execution_count": 1,
   "metadata": {}, 
   "outputs": [],
   "source": [
    "import pandas as pd\n",
    "import numpy as np\n",
    "from sklearn.model_selection import train_test_split\n",
    "from sklearn.svm import SVC\n",
    "from sklearn.metrics import accuracy_score\n",
    "from sklearn.model_selection import GridSearchCV\n",
    "from sklearn.preprocessing import OneHotEncoder\n",
    "from sklearn.preprocessing import LabelEncoder\n",
    "from matplotlib.colors import ListedColormap\n",
    "import matplotlib.pyplot as plt\n",
    "\n",
    "df = pd.read_csv('https://archive.ics.uci.edu/ml/machine-learning-databases/'\n",
    "                 'mushroom/agaricus-lepiota.data', header=None, engine='python')\n",
    "column_name = ['classes','cap-shape', 'cap-surface','cap-color','bruises?','odor',\n",
    "               'gill-attachment','gill-spacing','gill-size','gill-color',\n",
    "               'stalk-shape','stalk-root','stalk-surface-above-ring',\n",
    "               'stalk-surface-below-ring','stalk-color-above-ring',\n",
    "               'stalk-color-below-ring','veil-type','veil-color','ring-number',\n",
    "               'ring-type','spore-print-color','population','habitat']\n",
    "df.columns = column_name"
   ]
  },
  {
   "cell_type": "markdown",
   "metadata": {},
   "source": [
    "### Data preprocessing  "
   ]
  },
  {
   "cell_type": "code",
   "execution_count": 2,
   "metadata": {},
   "outputs": [
    {
     "name": "stdout",
     "output_type": "stream",
     "text": [
      "variable: classes unique: 2\n",
      "variable: cap-shape unique: 6\n",
      "variable: cap-surface unique: 4\n",
      "variable: cap-color unique: 10\n",
      "variable: bruises? unique: 2\n",
      "variable: odor unique: 9\n",
      "variable: gill-attachment unique: 2\n",
      "variable: gill-spacing unique: 2\n",
      "variable: gill-size unique: 2\n",
      "variable: gill-color unique: 12\n",
      "variable: stalk-shape unique: 2\n",
      "variable: stalk-root unique: 5\n",
      "variable: stalk-surface-above-ring unique: 4\n",
      "variable: stalk-surface-below-ring unique: 4\n",
      "variable: stalk-color-above-ring unique: 9\n",
      "variable: stalk-color-below-ring unique: 9\n",
      "variable: veil-type unique: 1\n",
      "variable: veil-color unique: 4\n",
      "variable: ring-number unique: 3\n",
      "variable: ring-type unique: 5\n",
      "variable: spore-print-color unique: 9\n",
      "variable: population unique: 6\n",
      "variable: habitat unique: 7\n"
     ]
    }
   ],
   "source": [
    "# NA check \n",
    "df = df.replace('?', np.nan)\n",
    "df.isna().sum()[df.isna().sum()>0]\n",
    "\n",
    "# 將stalk-root遺失值當成新的類別\n",
    "df['stalk-root'].value_counts()\n",
    "df['stalk-root'] = df['stalk-root'].fillna('k')\n",
    "\n",
    "# 檢查特徵類別種類個數\n",
    "for i in range(0,df.shape[1]):\n",
    "    print('variable:',df.columns[i],'unique:',len(df.iloc[:,i].unique()))\n",
    "\n",
    "# 移除只有一類的特徵\n",
    "del df['veil-type']\n",
    "\n",
    "# encode label first\n",
    "label_le = LabelEncoder()\n",
    "df['classes'] = label_le.fit_transform(df['classes'].values)\n",
    "\n",
    "# encode categorical features\n",
    "catego_features = [f for f in df.columns if f not in ['classes']]\n",
    "\n",
    "catego_le = LabelEncoder()\n",
    "\n",
    "# transform categorical values into numerical values\n",
    "num_values = []\n",
    "for i in catego_features:\n",
    "    df[i] = catego_le.fit_transform(df[i].values)\n",
    "    classes_list = catego_le.classes_.tolist()\n",
    "    # store the total number of values\n",
    "    num_values.append(len(classes_list))\n",
    "    # replace '?' with 'NaN'\n",
    "    if '?' in classes_list:\n",
    "        idx = classes_list.index('?')\n",
    "        df[i] = df[i].replace(idx, np.nan)\n",
    "\n",
    "# 從網站看過資料簡介,發現變數均是類別型且為noimal category feature,直接做OneHotEncoder\n",
    "catego_features_idx = []\n",
    "for fea in catego_features:\n",
    "    catego_features_idx.append(df.columns.tolist().index(fea))\n",
    "\n",
    "# give the column index you want to do one-hot encoding\n",
    "ohe = OneHotEncoder(categorical_features = catego_features_idx, sparse=False)\n",
    "impute_onehot_data = ohe.fit_transform(df)"
   ]
  },
  {
   "cell_type": "code",
   "execution_count": 3,
   "metadata": {},
   "outputs": [],
   "source": [
    "X = impute_onehot_data\n",
    "y = df.classes.values\n",
    "\n",
    "# 切分train和test data, 因為特徵均為noimal category feature不做標準化\n",
    "X_train, X_test, y_train, y_test = train_test_split(\n",
    "    X, y, test_size=0.2, random_state=1)"
   ]
  },
  {
   "cell_type": "markdown",
   "metadata": {},
   "source": [
    "### Grid search"
   ]
  },
  {
   "cell_type": "code",
   "execution_count": 4,
   "metadata": {},
   "outputs": [
    {
     "name": "stdout",
     "output_type": "stream",
     "text": [
      "1.0\n",
      "{'C': 1.0, 'gamma': 0.01, 'kernel': 'rbf'}\n"
     ]
    }
   ],
   "source": [
    "param_C = [0.1, 1.0, 10.0, 100.0, 1000.0, 10000.0]\n",
    "param_gamma = [0.00001, 0.0001, 0.001, 0.01, 0.1, 1.0]\n",
    "\n",
    "svm = SVC(random_state=0)\n",
    "# set the param_grid parameter of GridSearchCV to a list of dictionaries\n",
    "param_grid = [{'C': param_C, \n",
    "               'gamma': param_gamma, \n",
    "               'kernel': ['rbf']}]\n",
    "gs = GridSearchCV(estimator=svm, \n",
    "                  param_grid=param_grid, \n",
    "                  scoring='accuracy')\n",
    "gs = gs.fit(X_train, y_train)\n",
    "print(gs.best_score_)\n",
    "print(gs.best_params_)"
   ]
  },
  {
   "cell_type": "code",
   "execution_count": 5,
   "metadata": {},
   "outputs": [
    {
     "name": "stdout",
     "output_type": "stream",
     "text": [
      "Misclassified samples: 0\n",
      "Accuracy: 1.00\n"
     ]
    }
   ],
   "source": [
    "svm = SVC(kernel='rbf', random_state=0, gamma=0.01, C=1.0)\n",
    "svm.fit(X_train, y_train)\n",
    "y_pred = svm.predict(X_test)\n",
    "print('Misclassified samples: %d' % (y_test != y_pred).sum())\n",
    "print('Accuracy: %.2f' % accuracy_score(y_test, y_pred))"
   ]
  },
  {
   "cell_type": "markdown",
   "metadata": {},
   "source": [
    "### Report"
   ]
  },
  {
   "cell_type": "markdown",
   "metadata": {},
   "source": [
    "1.數據清洗:\n",
    "\n",
    "  (1)將?轉NA,只有一個特徵有遺失值且因為NA數過多,故歸納成一類。\n",
    "  \n",
    "  (2)將單一種類類別的特徵刪除,對模型預測沒幫助。\n",
    "  \n",
    "  (3)先將資料作label-encode,閱讀資料的網站敘述發現沒有有序的類別變數,直接作one-hot-encode。\n",
    "  \n",
    "  (4)資料無連續型特徵,故不做標準化的動作。\n",
    "  \n",
    "  \n",
    "  \n",
    "2.使用SVM訓練模型,調參數用grid search的方法對Cost跟gamma做調整。\n",
    "\n",
    "3.使用第二步的參數配適最後的模型。所得到的正確率為100%"
   ]
  }
 ],
 "metadata": {
  "kernelspec": {
   "display_name": "Python 3",
   "language": "python",
   "name": "python3"
  },
  "language_info": {
   "codemirror_mode": {
    "name": "ipython",
    "version": 3
   },
   "file_extension": ".py",
   "mimetype": "text/x-python",
   "name": "python",
   "nbconvert_exporter": "python",
   "pygments_lexer": "ipython3",
   "version": "3.6.5"
  }
 },
 "nbformat": 4,
 "nbformat_minor": 2
}
